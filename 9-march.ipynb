{
 "cells": [
  {
   "cell_type": "markdown",
   "id": "1d2d87a1-1d1e-4450-942f-eff54a5a678f",
   "metadata": {},
   "source": [
    "Q1:\n",
    "\n",
    "Probability Mass Function (PMF) and Probability Density Function (PDF) are two types of functions used in probability theory to describe the distribution of random variables.\n",
    "\n",
    "The Probability Mass Function (PMF) is used to describe the distribution of discrete random variables. It gives the probability of a discrete random variable taking a certain value. For example, if X is a discrete random variable that can take the values 1, 2, or 3 with probabilities 0.2, 0.5, and 0.3, respectively, then the PMF of X can be expressed as:\n",
    "\n",
    "P(X = 1) = 0.2\n",
    "P(X = 2) = 0.5\n",
    "P(X = 3) = 0.3\n",
    "\n",
    "The sum of all possible probabilities must equal 1.\n",
    "\n",
    "The Probability Density Function (PDF) is used to describe the distribution of continuous random variables. It gives the relative likelihood of a continuous random variable taking a certain value within a certain range. For example, if X is a continuous random variable that follows a normal distribution with mean 0 and standard deviation 1, then the PDF of X can be expressed as:\n",
    "\n",
    "f(x) = (1 / (sqrt(2π) * σ)) * e^(-((x-μ)^2)/(2σ^2))\n",
    "\n",
    "where μ is the mean and σ is the standard deviation.\n",
    "\n",
    "Q2:\n",
    "\n",
    "The Cumulative Density Function (CDF) is a function that gives the probability that a random variable X takes a value less than or equal to a given value x. It is defined as:\n",
    "\n",
    "F(x) = P(X ≤ x)\n",
    "\n",
    "For example, if X is a continuous random variable that follows a standard normal distribution, then the CDF of X can be expressed as:\n",
    "\n",
    "F(x) = P(X ≤ x) = ∫_{-∞}^{x} f(t) dt\n",
    "\n",
    "where f(t) is the PDF of the standard normal distribution.\n",
    "\n",
    "The CDF is used to determine the probability of a random variable taking a value within a certain range. It is also used to find percentiles of a distribution.\n",
    "\n",
    "Q3:\n",
    "\n",
    "The normal distribution is a probability distribution that is widely used in statistics to model a variety of random variables. Some examples of situations where the normal distribution might be used as a model include:\n",
    "\n",
    "Heights and weights of individuals in a population\n",
    "IQ scores\n",
    "Errors in measurement\n",
    "The sum of a large number of independent random variables\n",
    "The normal distribution is characterized by two parameters: the mean (μ) and the standard deviation (σ). The mean determines the location of the center of the distribution, while the standard deviation determines the spread of the distribution. A normal distribution with a smaller standard deviation is more concentrated around the mean, while a normal distribution with a larger standard deviation is more spread out.\n",
    "\n",
    "Q4:\n",
    "\n",
    "The normal distribution, also known as the Gaussian distribution, is an important statistical distribution that is widely used in various fields, including science, engineering, economics, finance, and social sciences. The main importance of the normal distribution lies in the fact that many natural phenomena follow this distribution, making it a useful tool for modeling and analyzing data.\n",
    "\n",
    "Some real-life examples of normal distribution include:\n",
    "\n",
    "Height of individuals: The heights of people in a population often follow a normal distribution with a bell-shaped curve. This is useful in determining the average height of people in a given population, as well as identifying outliers or individuals with extreme heights.\n",
    "\n",
    "Exam scores: In education, exam scores of a large group of students can often be modeled using a normal distribution. This helps educators to understand the performance of the students and identify students who performed exceptionally well or poorly.\n",
    "\n",
    "Errors in measurements: In science and engineering, measurement errors often follow a normal distribution. Understanding the properties of normal distribution helps to identify the probability of error, and develop statistical models that are more accurate.\n",
    "\n",
    "Stock prices: In finance, stock prices are often modeled using normal distribution. This helps investors to analyze the performance of a particular stock and determine the probability of certain outcomes, such as a stock price rise or decline.\n",
    "\n",
    "IQ scores: Intelligence Quotient (IQ) scores follow a normal distribution, with a mean of 100 and a standard deviation of 15. This helps to identify individuals with exceptional intelligence or those who need additional support to reach their potential.\n",
    "\n",
    "Overall, the normal distribution is an important tool for understanding the behavior of various phenomena, and it provides a foundation for many statistical analyses and modeling techniques.\n"
   ]
  },
  {
   "cell_type": "markdown",
   "id": "23d24ead-7890-49b2-ab3b-905123a2c0b3",
   "metadata": {},
   "source": [
    "Q5.The Bernoulli distribution is a discrete probability distribution that describes the probability of success or failure of a single experiment or trial. It is named after the Swiss mathematician Jacob Bernoulli.\n",
    "\n",
    "The Bernoulli distribution has a single parameter, which is the probability of success, denoted by p. The distribution takes the value 1 with probability p (representing success) and the value 0 with probability 1-p (representing failure).\n",
    "\n",
    "An example of Bernoulli distribution is tossing a fair coin. If we define getting heads as success, then the probability of success is p=0.5, and the distribution can be used to calculate the probability of getting heads or tails in a single toss.\n",
    "\n",
    "The binomial distribution is an extension of the Bernoulli distribution, which describes the number of successes in a fixed number of independent Bernoulli trials, where each trial has the same probability of success p.\n",
    "\n",
    "The main difference between Bernoulli and binomial distributions is that the Bernoulli distribution describes the probability of a single success or failure, while the binomial distribution describes the probability of a certain number of successes in a fixed number of trials.\n",
    "\n",
    "For example, tossing a fair coin 10 times can be modeled using the binomial distribution, where the number of heads (successes) in 10 tosses can take values from 0 to 10. The Bernoulli distribution can be used to describe the probability of getting heads in a single toss."
   ]
  },
  {
   "cell_type": "code",
   "execution_count": 1,
   "id": "b0ae94fb-889d-44e2-b26a-1cb6bbc992dc",
   "metadata": {},
   "outputs": [
    {
     "ename": "SyntaxError",
     "evalue": "invalid syntax (3149779546.py, line 1)",
     "output_type": "error",
     "traceback": [
      "\u001b[0;36m  Cell \u001b[0;32mIn[1], line 1\u001b[0;36m\u001b[0m\n\u001b[0;31m    Q6.\u001b[0m\n\u001b[0m       ^\u001b[0m\n\u001b[0;31mSyntaxError\u001b[0m\u001b[0;31m:\u001b[0m invalid syntax\n"
     ]
    }
   ],
   "source": [
    "Q6."
   ]
  },
  {
   "cell_type": "markdown",
   "id": "cd29164f-6697-4dea-ab31-50955990dc9b",
   "metadata": {},
   "source": [
    "Q7.Uniform distribution is a probability distribution where every possible outcome is equally likely to occur. In other words, the probability of getting any value within a certain range is the same. The uniform distribution is often used in situations where there is no preference or bias towards any particular outcome.\n",
    "\n",
    "An example of uniform distribution can be rolling a fair dice. In this case, all the possible outcomes (1, 2, 3, 4, 5, 6) are equally likely to occur, and the probability of getting any value is 1/6.\n",
    "\n",
    "Another example can be the height of a basketball player. Assuming that all basketball players in a particular league are equally likely to have any height between a certain range, we can model the height distribution using a uniform distribution.\n",
    "\n",
    "Q8: What is the z score? State the importance of the z score.\n",
    "\n",
    "The z-score, also known as the standard score, is a measure of how many standard deviations a data point is from the mean of a distribution. The formula for calculating the z-score is (X - μ) / σ, where X is the value of the data point, μ is the mean of the distribution, and σ is the standard deviation of the distribution.\n",
    "\n",
    "The importance of the z-score lies in the fact that it helps us to standardize data and compare data from different distributions. By converting data points to z-scores, we can compare their relative positions within their respective distributions, and make inferences about the population that the data is sampled from.\n",
    "\n",
    "Q9: What is Central Limit Theorem? State the significance of the Central Limit Theorem.\n",
    "\n",
    "The Central Limit Theorem (CLT) is a fundamental concept in statistics that states that the distribution of sample means of a large number of independent and identically distributed random variables approaches a normal distribution, regardless of the underlying distribution of the population. In other words, as the sample size increases, the distribution of sample means becomes more normal.\n",
    "\n",
    "The significance of the Central Limit Theorem lies in the fact that it provides a basis for statistical inference, hypothesis testing, and confidence intervals. By assuming that the sample means follow a normal distribution, we can make probabilistic statements about the population from which the sample is drawn, even if we don't know the underlying distribution of the population.\n",
    "\n",
    "Q10: State the assumptions of the Central Limit Theorem.\n",
    "\n",
    "The assumptions of the Central Limit Theorem are:\n",
    "\n",
    "Independence: The random variables in the sample must be independent of each other.\n",
    "Sample size: The sample size should be sufficiently large. The rule of thumb is that the sample size should be greater than or equal to 30.\n",
    "Finite variance: The population from which the sample is drawn must have a finite variance. If the variance is infinite, the Central Limit Theorem may not hold.\n",
    "Identical distribution: Each random variable in the sample should have the same distribution. This is often referred to as the assumption of \"identically distributed\" variables."
   ]
  }
 ],
 "metadata": {
  "kernelspec": {
   "display_name": "Python 3 (ipykernel)",
   "language": "python",
   "name": "python3"
  },
  "language_info": {
   "codemirror_mode": {
    "name": "ipython",
    "version": 3
   },
   "file_extension": ".py",
   "mimetype": "text/x-python",
   "name": "python",
   "nbconvert_exporter": "python",
   "pygments_lexer": "ipython3",
   "version": "3.10.8"
  }
 },
 "nbformat": 4,
 "nbformat_minor": 5
}
